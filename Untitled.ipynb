{
 "cells": [
  {
   "cell_type": "code",
   "execution_count": null,
   "id": "e22cbdf3-d9ef-4c7b-9d44-a74cb61e3a98",
   "metadata": {},
   "outputs": [],
   "source": [
    "import transformers\n",
    "\n",
    "model = transformers.TFAutoModelForSeq2SeqLM.from_pretrained(\"Helsinki-NLP/opus-mt-en-hi\")\n",
    "\n",
    "def translate(text):\n",
    "    # Encode the text\n",
    "    encoded_input = model.encode(text, return_tensors=\"tf\")\n",
    "\n",
    "    # Decode the text\n",
    "    decoded_output = model.decode(encoded_input)\n",
    "\n",
    "    return decoded_output\n",
    "\n",
    "if __name__ == '__main__':\n",
    "    text = \"I am a large language model.\"\n",
    "    translation = translate(text)\n",
    "    print(translation)\n"
   ]
  },
  {
   "cell_type": "code",
   "execution_count": null,
   "id": "04ae983f-cc87-4831-a22e-574deb2a10fc",
   "metadata": {},
   "outputs": [],
   "source": []
  }
 ],
 "metadata": {
  "kernelspec": {
   "display_name": "Python 3 (ipykernel)",
   "language": "python",
   "name": "python3"
  },
  "language_info": {
   "codemirror_mode": {
    "name": "ipython",
    "version": 3
   },
   "file_extension": ".py",
   "mimetype": "text/x-python",
   "name": "python",
   "nbconvert_exporter": "python",
   "pygments_lexer": "ipython3",
   "version": "3.10.7"
  }
 },
 "nbformat": 4,
 "nbformat_minor": 5
}
